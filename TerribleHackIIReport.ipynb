{
 "cells": [
  {
   "cell_type": "markdown",
   "metadata": {},
   "source": [
    "# TerribleHack II Transparency report\n",
    "Hey everyone! Thank you all for coming to TerribleHack this term! We had a blast hosting the event and saw all the terriblehacks you all made. As promised we are making the data behind this hackathon public so in this report we'll be going registration, income, expenses, and our post-event survey!\n",
    "\n",
    "Missed it? You can take a look at our [DevPost page](http://terriblehack.devpost.com/submissions) and also watch the pitches on our [YouTube channel](https://www.youtube.com/channel/UCznbFDr2mhqFBadguRnG8Hg/videos) here. \n",
    "\n",
    "Go ahead, we can wait.\n",
    "\n",
    "Alright, ready?\n",
    "\n",
    "Let's start by loading all the libraries we need to make pretty graphs later..."
   ]
  },
  {
   "cell_type": "code",
   "execution_count": 1,
   "metadata": {
    "collapsed": false
   },
   "outputs": [],
   "source": [
    "import terrible\n",
    "import pandas as pd\n",
    "import numpy as np\n",
    "import matplotlib.pyplot as plt\n",
    "%matplotlib inline"
   ]
  },
  {
   "cell_type": "markdown",
   "metadata": {},
   "source": [
    "# Who registered?\n",
    "To attend TerribleHack II, we've set up a nice TypeForm where we ask a few questions like class and dietary restrictions.\n",
    "\n",
    "The cohort of people who signed up the most was first year Software Engineers (no big surprise...)! We've got 444 students from every faculty and even high school sign up.\n",
    "\n",
    "Here's some raw data for you geeks out there:"
   ]
  },
  {
   "cell_type": "code",
   "execution_count": 119,
   "metadata": {
    "collapsed": false,
    "scrolled": false
   },
   "outputs": [
    {
     "data": {
      "text/html": [
       "<div>\n",
       "<table border=\"1\" class=\"dataframe\">\n",
       "  <thead>\n",
       "    <tr style=\"text-align: right;\">\n",
       "      <th></th>\n",
       "      <th>Program</th>\n",
       "      <th>Would you rather fight one horse sized goose or one hundred goose sized horses</th>\n",
       "    </tr>\n",
       "  </thead>\n",
       "  <tbody>\n",
       "    <tr>\n",
       "      <th>count</th>\n",
       "      <td>444</td>\n",
       "      <td>444</td>\n",
       "    </tr>\n",
       "    <tr>\n",
       "      <th>unique</th>\n",
       "      <td>271</td>\n",
       "      <td>8</td>\n",
       "    </tr>\n",
       "    <tr>\n",
       "      <th>top</th>\n",
       "      <td>SE 1A</td>\n",
       "      <td>Dank Memes</td>\n",
       "    </tr>\n",
       "    <tr>\n",
       "      <th>freq</th>\n",
       "      <td>35</td>\n",
       "      <td>122</td>\n",
       "    </tr>\n",
       "  </tbody>\n",
       "</table>\n",
       "</div>"
      ],
      "text/plain": [
       "       Program  \\\n",
       "count      444   \n",
       "unique     271   \n",
       "top      SE 1A   \n",
       "freq        35   \n",
       "\n",
       "       Would you rather fight one horse sized goose or one hundred goose sized horses  \n",
       "count                                                 444                              \n",
       "unique                                                  8                              \n",
       "top                                            Dank Memes                              \n",
       "freq                                                  122                              "
      ]
     },
     "execution_count": 119,
     "metadata": {},
     "output_type": "execute_result"
    }
   ],
   "source": [
    "applications=pd.read_csv(\"signups.csv\")\n",
    "applications.describe()"
   ]
  },
  {
   "cell_type": "code",
   "execution_count": 120,
   "metadata": {
    "collapsed": false,
    "scrolled": true
   },
   "outputs": [
    {
     "data": {
      "text/plain": [
       "SE 1A                                 35\n",
       "CS 1A                                 27\n",
       "Computer Engineering 1A               14\n",
       "SE 2A                                 13\n",
       "CS 2A                                 13\n",
       "ECE 1A                                 8\n",
       "CS 3A                                  8\n",
       "2A CS                                  6\n",
       "CS 2nd year                            6\n",
       "SYDE 1A                                5\n",
       "Math 1A                                4\n",
       "2B Computer Engineering                4\n",
       "1A SE                                  4\n",
       "Se 2A                                  3\n",
       "3A CS                                  3\n",
       "CS Year 1                              3\n",
       "CFM 2A                                 3\n",
       "Software 2A                            3\n",
       "se 2A                                  2\n",
       "CS 2nd Year                            2\n",
       "Systems design 1A                      2\n",
       "Computer engineering 3B                2\n",
       "CS 3b                                  2\n",
       "Biomedical engineering 1A              2\n",
       "CS 2b                                  2\n",
       "Computer Engineering 2A                2\n",
       "ECE 2a                                 2\n",
       "Computer engineering 2B                2\n",
       "2A CS / SE Option                      2\n",
       "Electrical engineering 2nd year        2\n",
       "                                      ..\n",
       "Mechatronics Engineering  2nd year     1\n",
       "1A mechatronics                        1\n",
       "computer engineering 2a                1\n",
       "2b mechatronics                        1\n",
       "Double degree 2a                       1\n",
       "Compsci 2017                           1\n",
       "CS & Business Double Degree 2A         1\n",
       "BBA & BCS 2015                         1\n",
       "ECE 2B                                 1\n",
       "Comp eng 1A                            1\n",
       "Math                                   1\n",
       "2a cs                                  1\n",
       "FirstYear Biomedical Engineering       1\n",
       "ECE 2A                                 1\n",
       "Computer Engineering 4th year.         1\n",
       "HS 2017                                1\n",
       "Nanotechnology Engineering 2A          1\n",
       "Mechatronics Engineering 2A            1\n",
       "Software 1A                            1\n",
       "Comp Sci 3b                            1\n",
       "AFM 4A                                 1\n",
       "SYDE Class of 1A                       1\n",
       "2a mathematics (CS)                    1\n",
       "4a planning                            1\n",
       "CS year 2                              1\n",
       "1099                                   1\n",
       "2A ECE                                 1\n",
       "CS/BBA Double Degree 1A                1\n",
       "fuck this                              1\n",
       "2A Honours CS                          1\n",
       "Name: Program, dtype: int64"
      ]
     },
     "execution_count": 120,
     "metadata": {},
     "output_type": "execute_result"
    }
   ],
   "source": [
    "#list of the programs! :)\n",
    "applications['Program'].value_counts()"
   ]
  },
  {
   "cell_type": "markdown",
   "metadata": {},
   "source": [
    "# Who came?\n",
    "\n",
    "The actual turnout, however, was closer to 200 people. I don't have the specifics of it because we decided not to do sign-in during the day of the event.\n",
    "\n",
    "*Well... there was one*, but we decided to just give everyone a CAPTCHA so they can prove they are not robots.\n",
    "\n",
    "# How much did everyone give?\n",
    "\n",
    "We got 5 sponsors (Vehikl, Velocity, Shopify, Mathsoc, Software Engineering) and over 70 Tilt contributors, so a major thanks for helping to make all of this possible! We raised **$1,951.07** including sponsors and students, which is a lot of money at first, then I learned that food is really expensive.\n",
    "\n",
    "In terms of tilt specifically, the top 3 contributors are:\n",
    "\n",
    "## Tilt heroes Wall of Fame\n",
    "    1- Grant Lovell of Vehikl\n",
    "    2- Valentin Tsatskin\n",
    "    3- Jimi Vyas\n",
    "\n",
    "A big thanks to all other Tilt contributors as well. You guys are legit awesome! Here's some more raw data for you geeks out there:"
   ]
  },
  {
   "cell_type": "code",
   "execution_count": 91,
   "metadata": {
    "collapsed": false,
    "scrolled": true
   },
   "outputs": [
    {
     "data": {
      "text/html": [
       "<div>\n",
       "<table border=\"1\" class=\"dataframe\">\n",
       "  <thead>\n",
       "    <tr style=\"text-align: right;\">\n",
       "      <th></th>\n",
       "      <th>Amount</th>\n",
       "      <th>Expenses</th>\n",
       "    </tr>\n",
       "  </thead>\n",
       "  <tbody>\n",
       "    <tr>\n",
       "      <th>count</th>\n",
       "      <td>78.000000</td>\n",
       "      <td>5.000000</td>\n",
       "    </tr>\n",
       "    <tr>\n",
       "      <th>mean</th>\n",
       "      <td>25.122692</td>\n",
       "      <td>-366.380000</td>\n",
       "    </tr>\n",
       "    <tr>\n",
       "      <th>std</th>\n",
       "      <td>71.737279</td>\n",
       "      <td>369.501611</td>\n",
       "    </tr>\n",
       "    <tr>\n",
       "      <th>min</th>\n",
       "      <td>2.000000</td>\n",
       "      <td>-921.430000</td>\n",
       "    </tr>\n",
       "    <tr>\n",
       "      <th>25%</th>\n",
       "      <td>2.032500</td>\n",
       "      <td>-519.830000</td>\n",
       "    </tr>\n",
       "    <tr>\n",
       "      <th>50%</th>\n",
       "      <td>5.000000</td>\n",
       "      <td>-305.640000</td>\n",
       "    </tr>\n",
       "    <tr>\n",
       "      <th>75%</th>\n",
       "      <td>11.500000</td>\n",
       "      <td>-65.000000</td>\n",
       "    </tr>\n",
       "    <tr>\n",
       "      <th>max</th>\n",
       "      <td>500.000000</td>\n",
       "      <td>-20.000000</td>\n",
       "    </tr>\n",
       "  </tbody>\n",
       "</table>\n",
       "</div>"
      ],
      "text/plain": [
       "           Amount    Expenses\n",
       "count   78.000000    5.000000\n",
       "mean    25.122692 -366.380000\n",
       "std     71.737279  369.501611\n",
       "min      2.000000 -921.430000\n",
       "25%      2.032500 -519.830000\n",
       "50%      5.000000 -305.640000\n",
       "75%     11.500000  -65.000000\n",
       "max    500.000000  -20.000000"
      ]
     },
     "execution_count": 91,
     "metadata": {},
     "output_type": "execute_result"
    }
   ],
   "source": [
    "donations=pd.read_csv(\"tilt.csv\",parse_dates=['Time of Contribution'])\n",
    "donations.describe()"
   ]
  },
  {
   "cell_type": "code",
   "execution_count": 124,
   "metadata": {
    "collapsed": false,
    "scrolled": true
   },
   "outputs": [
    {
     "data": {
      "image/png": "[encoded data removed]",
      "text/plain": [
       "<matplotlib.figure.Figure at 0x11508ff98>"
      ]
     },
     "metadata": {},
     "output_type": "display_data"
    }
   ],
   "source": [
    "#plot this :)\n",
    "donation_freqency = donations.Amount.plot(kind='hist', bins=25, alpha=0.5, title=\"Donation/Sponsorship amount\")"
   ]
  },
  {
   "cell_type": "code",
   "execution_count": 125,
   "metadata": {
    "collapsed": false
   },
   "outputs": [
    {
     "data": {
      "image/png": "[encoded data removed]",
      "text/plain": [
       "<matplotlib.figure.Figure at 0x115620470>"
      ]
     },
     "metadata": {},
     "output_type": "display_data"
    }
   ],
   "source": [
    "#remote outliers\n",
    "donations=donations[np.abs(donations.Amount-donations.Amount.mean())<=(1.5*donations.Amount.std())]\n",
    "#plot this :)\n",
    "donation_freqency = donations.Amount.plot(kind='hist', bins=25, alpha=0.5, title=\"Donation/Sponsorship amount from $0-$100\")"
   ]
  },
  {
   "cell_type": "markdown",
   "metadata": {},
   "source": [
    "| Item              | Cost ($)    |\n",
    "|-------------------|---------|\n",
    "| Pizza             | 921.43 |\n",
    "| Timbits           | 305.64 |\n",
    "| Drinks and Snacks | 519.83 |\n",
    "| Stickers          | 65.00  |\n",
    "| Trophies          | 20.00  |\n",
    "| **Budget**         | 1,951.07  |\n",
    "| **Expenses**          | 1,831.90  |\n",
    "| **Surplus**          | 119.17   |"
   ]
  },
  {
   "cell_type": "markdown",
   "metadata": {
    "collapsed": true
   },
   "source": [
    "# How your money was spent\n",
    "\n",
    "We budgeted all food and snacks for 315 attendees, and spent a total of **$1,831.90**. We had a lower turnout than expected, which is not necessarily a bad thing as you guys were able to have a ludicrous amount of free food (13 timbits/person anyone?)\n",
    "\n",
    "If we were to break down the expenses into categories, it would look something like this:"
   ]
  },
  {
   "cell_type": "markdown",
   "metadata": {},
   "source": [
    "A few takeaways from this table: \n",
    " - Pizza is expensive\n",
    " - It's weird to a receipt for over $900 of pizza\n",
    " - The surplus will go towards hosting TerribleHack this winter term! Yes you heard it here first!"
   ]
  },
  {
   "cell_type": "markdown",
   "metadata": {},
   "source": [
    "# Survey results!\n",
    "\n",
    "After the hackathon, we sent out a survey asking for what you all liked and what needs to be improved.\n",
    "\n",
    "One question that stood out was asking if you were able to finish what you want to make. The results are pretty promising. Over 60% of you were able to make a terriblehack! That's a passing grade.\n",
    "\n",
    "```\n",
    "    Were you able to finish your project up to the point you would've liked?\n",
    "    \n",
    "    Yeee\t                40\t62.5%\n",
    "    Naw                     12\t18.8%\n",
    "    I didn't make a hack\t12\t18.8%\n",
    "```\n",
    "\n",
    "Other than that, here's a few takeaways from the survey:\n",
    "\n",
    "### What did you guys like:\n",
    "    - Casual atmosphere\n",
    "    - Free food\n",
    "    - Dank\n",
    "    - Lack of corporate influence\n",
    "    - Funny\n",
    "    - It was bad\n",
    "    - The music\n",
    "\n",
    "### What needs to be improved\n",
    "    - The music\n",
    "    - It was too cold\n",
    "    - Better food (fruits, actual lunch)\n",
    "    - Lack of Doritos and Mountain Dew\n",
    "    - More Time\n",
    "    - Better pitching/award categories/prizes\n",
    "These are definitively good feedback and we'll try to make the next TerribleHack suck more!\n"
   ]
  },
  {
   "cell_type": "markdown",
   "metadata": {},
   "source": [
    "That's about it. Thanks for reading this guys! See you all at the next TerribleHack!\n",
    "\n",
    "Another statistic for you: We have over 300 members on our [Facebook group](https://www.facebook.com/groups/terriblehack/) and [we have a Twitter feed too](https://twitter.com/terriblehack)! You should totally like us or follow us if you haven’t already! ;) "
   ]
  },
  {
   "cell_type": "markdown",
   "metadata": {},
   "source": [
    "The TerribleHack team\n",
    "Yu Chen \"Yu Chainz\" \n",
    "Steven \"Notorious K.O.N.G\"\n",
    "Deon \"The big D\"\n",
    "Dave \"Slim Davey\"\n",
    "Andrew \"Candy Wrapper\"\n",
    "Jason \"Jay-Z\"\n",
    "Simon \"Xin Ming\"\n",
    "Daniel Rampelt\n",
    "Valentin Tsatskin"
   ]
  },
  {
   "cell_type": "markdown",
   "metadata": {},
   "source": [
    "**The TerribleHack team**\n",
    "\n",
    "Yu Chen \"Yu Chainz\" \n",
    "\n",
    "Steven \"Notorious K.O.N.G\"\n",
    "\n",
    "Deon \"The big D\"\n",
    "\n",
    "Dave \"Slim Davey\"\n",
    "\n",
    "Andrew \"Candy Wrapper\"\n",
    "\n",
    "Jason \"Jay-Z\"\n",
    "\n",
    "Simon \"Xin Ming\"\n",
    "\n",
    "Daniel Rampelt\n",
    "\n",
    "Valentin Tsatskin"
   ]
  },
  {
   "cell_type": "code",
   "execution_count": null,
   "metadata": {
    "collapsed": true
   },
   "outputs": [],
   "source": []
  }
 ],
 "metadata": {
  "kernelspec": {
   "display_name": "Python 3",
   "language": "python",
   "name": "python3"
  },
  "language_info": {
   "codemirror_mode": {
    "name": "ipython",
    "version": 3
   },
   "file_extension": ".py",
   "mimetype": "text/x-python",
   "name": "python",
   "nbconvert_exporter": "python",
   "pygments_lexer": "ipython3",
   "version": "3.4.3"
  }
 },
 "nbformat": 4,
 "nbformat_minor": 0
}
